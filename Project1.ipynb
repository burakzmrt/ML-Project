{
 "cells": [
  {
   "cell_type": "code",
   "execution_count": 121,
   "metadata": {},
   "outputs": [],
   "source": [
    "%matplotlib inline\n",
    "import numpy as np\n",
    "import matplotlib.pyplot as plt\n",
    "import pandas as pd\n",
    "#import seaborn as sns; sns.set()\n",
    "import sklearn\n",
    "from sklearn.model_selection import train_test_split\n",
    "from sklearn.impute import SimpleImputer # for the missing categorical variables\n",
    "from sklearn import preprocessing\n",
    "from sklearn.experimental import enable_iterative_imputer\n",
    "from sklearn.impute import IterativeImputer\n",
    "from sklearn.preprocessing import OneHotEncoder\n",
    "from sklearn.linear_model import LinearRegression\n"
   ]
  },
  {
   "cell_type": "code",
   "execution_count": 101,
   "metadata": {},
   "outputs": [],
   "source": [
    "# YOUR CODE HERE\n",
    "\n",
    "def answer_one_a():\n",
    "    df_data = pd.read_csv(\"horse-colic.data\", skipinitialspace = True, sep=';')\n",
    "    df_data = df_data.replace('[?]',np.NaN,regex= True)\n",
    "    df_data = df_data.apply(pd.to_numeric)\n",
    "    return df_data\n",
    "    \n",
    "\n",
    "def answer_one_b(input_df):\n",
    "    num_rows = len(df_data.index)\n",
    "    num_cols = len(df_data.columns) \n",
    "    names = df_data.columns.values.tolist()\n",
    "    \n",
    "    return num_rows, num_cols, names"
   ]
  },
  {
   "cell_type": "code",
   "execution_count": 102,
   "metadata": {},
   "outputs": [
    {
     "data": {
      "text/html": [
       "<div>\n",
       "<style scoped>\n",
       "    .dataframe tbody tr th:only-of-type {\n",
       "        vertical-align: middle;\n",
       "    }\n",
       "\n",
       "    .dataframe tbody tr th {\n",
       "        vertical-align: top;\n",
       "    }\n",
       "\n",
       "    .dataframe thead th {\n",
       "        text-align: right;\n",
       "    }\n",
       "</style>\n",
       "<table border=\"1\" class=\"dataframe\">\n",
       "  <thead>\n",
       "    <tr style=\"text-align: right;\">\n",
       "      <th></th>\n",
       "      <th>Surgery</th>\n",
       "      <th>Age</th>\n",
       "      <th>Hospital Number</th>\n",
       "      <th>Rectal Temperature</th>\n",
       "      <th>Pulse</th>\n",
       "      <th>Respiratory Rate</th>\n",
       "      <th>Temperature Of Extremities</th>\n",
       "      <th>Peripheral Pulse</th>\n",
       "      <th>Mucous Membranes</th>\n",
       "      <th>Capillary Refill Time</th>\n",
       "      <th>...</th>\n",
       "      <th>Packed Cell Volume</th>\n",
       "      <th>Total Protein</th>\n",
       "      <th>Abdominocentesis Appearance</th>\n",
       "      <th>Abdomcentesis Total Protein</th>\n",
       "      <th>Outcome</th>\n",
       "      <th>Surgical Lesion</th>\n",
       "      <th>Lesion 1</th>\n",
       "      <th>Lesion 2</th>\n",
       "      <th>Lesion 3</th>\n",
       "      <th>Pathology Data</th>\n",
       "    </tr>\n",
       "  </thead>\n",
       "  <tbody>\n",
       "    <tr>\n",
       "      <th>0</th>\n",
       "      <td>2.0</td>\n",
       "      <td>1</td>\n",
       "      <td>530101</td>\n",
       "      <td>38.5</td>\n",
       "      <td>66.0</td>\n",
       "      <td>28.0</td>\n",
       "      <td>3.0</td>\n",
       "      <td>3.0</td>\n",
       "      <td>NaN</td>\n",
       "      <td>2.0</td>\n",
       "      <td>...</td>\n",
       "      <td>45.0</td>\n",
       "      <td>8.4</td>\n",
       "      <td>NaN</td>\n",
       "      <td>NaN</td>\n",
       "      <td>2</td>\n",
       "      <td>2</td>\n",
       "      <td>11300</td>\n",
       "      <td>0</td>\n",
       "      <td>0</td>\n",
       "      <td>2</td>\n",
       "    </tr>\n",
       "    <tr>\n",
       "      <th>1</th>\n",
       "      <td>1.0</td>\n",
       "      <td>1</td>\n",
       "      <td>534817</td>\n",
       "      <td>39.2</td>\n",
       "      <td>88.0</td>\n",
       "      <td>20.0</td>\n",
       "      <td>NaN</td>\n",
       "      <td>NaN</td>\n",
       "      <td>4.0</td>\n",
       "      <td>1.0</td>\n",
       "      <td>...</td>\n",
       "      <td>50.0</td>\n",
       "      <td>85.0</td>\n",
       "      <td>2.0</td>\n",
       "      <td>2.0</td>\n",
       "      <td>3</td>\n",
       "      <td>2</td>\n",
       "      <td>2208</td>\n",
       "      <td>0</td>\n",
       "      <td>0</td>\n",
       "      <td>2</td>\n",
       "    </tr>\n",
       "    <tr>\n",
       "      <th>2</th>\n",
       "      <td>2.0</td>\n",
       "      <td>1</td>\n",
       "      <td>530334</td>\n",
       "      <td>38.3</td>\n",
       "      <td>40.0</td>\n",
       "      <td>24.0</td>\n",
       "      <td>1.0</td>\n",
       "      <td>1.0</td>\n",
       "      <td>3.0</td>\n",
       "      <td>1.0</td>\n",
       "      <td>...</td>\n",
       "      <td>33.0</td>\n",
       "      <td>6.7</td>\n",
       "      <td>NaN</td>\n",
       "      <td>NaN</td>\n",
       "      <td>1</td>\n",
       "      <td>2</td>\n",
       "      <td>0</td>\n",
       "      <td>0</td>\n",
       "      <td>0</td>\n",
       "      <td>1</td>\n",
       "    </tr>\n",
       "    <tr>\n",
       "      <th>3</th>\n",
       "      <td>1.0</td>\n",
       "      <td>9</td>\n",
       "      <td>5290409</td>\n",
       "      <td>39.1</td>\n",
       "      <td>164.0</td>\n",
       "      <td>84.0</td>\n",
       "      <td>4.0</td>\n",
       "      <td>1.0</td>\n",
       "      <td>6.0</td>\n",
       "      <td>2.0</td>\n",
       "      <td>...</td>\n",
       "      <td>48.0</td>\n",
       "      <td>7.2</td>\n",
       "      <td>3.0</td>\n",
       "      <td>5.3</td>\n",
       "      <td>2</td>\n",
       "      <td>1</td>\n",
       "      <td>2208</td>\n",
       "      <td>0</td>\n",
       "      <td>0</td>\n",
       "      <td>1</td>\n",
       "    </tr>\n",
       "    <tr>\n",
       "      <th>4</th>\n",
       "      <td>2.0</td>\n",
       "      <td>1</td>\n",
       "      <td>530255</td>\n",
       "      <td>37.3</td>\n",
       "      <td>104.0</td>\n",
       "      <td>35.0</td>\n",
       "      <td>NaN</td>\n",
       "      <td>NaN</td>\n",
       "      <td>6.0</td>\n",
       "      <td>2.0</td>\n",
       "      <td>...</td>\n",
       "      <td>74.0</td>\n",
       "      <td>7.4</td>\n",
       "      <td>NaN</td>\n",
       "      <td>NaN</td>\n",
       "      <td>2</td>\n",
       "      <td>2</td>\n",
       "      <td>4300</td>\n",
       "      <td>0</td>\n",
       "      <td>0</td>\n",
       "      <td>2</td>\n",
       "    </tr>\n",
       "    <tr>\n",
       "      <th>...</th>\n",
       "      <td>...</td>\n",
       "      <td>...</td>\n",
       "      <td>...</td>\n",
       "      <td>...</td>\n",
       "      <td>...</td>\n",
       "      <td>...</td>\n",
       "      <td>...</td>\n",
       "      <td>...</td>\n",
       "      <td>...</td>\n",
       "      <td>...</td>\n",
       "      <td>...</td>\n",
       "      <td>...</td>\n",
       "      <td>...</td>\n",
       "      <td>...</td>\n",
       "      <td>...</td>\n",
       "      <td>...</td>\n",
       "      <td>...</td>\n",
       "      <td>...</td>\n",
       "      <td>...</td>\n",
       "      <td>...</td>\n",
       "      <td>...</td>\n",
       "    </tr>\n",
       "    <tr>\n",
       "      <th>363</th>\n",
       "      <td>2.0</td>\n",
       "      <td>1</td>\n",
       "      <td>529695</td>\n",
       "      <td>38.6</td>\n",
       "      <td>60.0</td>\n",
       "      <td>30.0</td>\n",
       "      <td>1.0</td>\n",
       "      <td>1.0</td>\n",
       "      <td>3.0</td>\n",
       "      <td>1.0</td>\n",
       "      <td>...</td>\n",
       "      <td>40.0</td>\n",
       "      <td>6.0</td>\n",
       "      <td>1.0</td>\n",
       "      <td>NaN</td>\n",
       "      <td>1</td>\n",
       "      <td>1</td>\n",
       "      <td>3205</td>\n",
       "      <td>0</td>\n",
       "      <td>0</td>\n",
       "      <td>2</td>\n",
       "    </tr>\n",
       "    <tr>\n",
       "      <th>364</th>\n",
       "      <td>2.0</td>\n",
       "      <td>1</td>\n",
       "      <td>528452</td>\n",
       "      <td>37.8</td>\n",
       "      <td>42.0</td>\n",
       "      <td>40.0</td>\n",
       "      <td>1.0</td>\n",
       "      <td>1.0</td>\n",
       "      <td>1.0</td>\n",
       "      <td>1.0</td>\n",
       "      <td>...</td>\n",
       "      <td>36.0</td>\n",
       "      <td>6.2</td>\n",
       "      <td>NaN</td>\n",
       "      <td>NaN</td>\n",
       "      <td>1</td>\n",
       "      <td>2</td>\n",
       "      <td>4124</td>\n",
       "      <td>0</td>\n",
       "      <td>0</td>\n",
       "      <td>2</td>\n",
       "    </tr>\n",
       "    <tr>\n",
       "      <th>365</th>\n",
       "      <td>1.0</td>\n",
       "      <td>1</td>\n",
       "      <td>534783</td>\n",
       "      <td>38.0</td>\n",
       "      <td>60.0</td>\n",
       "      <td>12.0</td>\n",
       "      <td>1.0</td>\n",
       "      <td>1.0</td>\n",
       "      <td>2.0</td>\n",
       "      <td>1.0</td>\n",
       "      <td>...</td>\n",
       "      <td>44.0</td>\n",
       "      <td>65.0</td>\n",
       "      <td>3.0</td>\n",
       "      <td>2.0</td>\n",
       "      <td>3</td>\n",
       "      <td>1</td>\n",
       "      <td>2209</td>\n",
       "      <td>0</td>\n",
       "      <td>0</td>\n",
       "      <td>2</td>\n",
       "    </tr>\n",
       "    <tr>\n",
       "      <th>366</th>\n",
       "      <td>2.0</td>\n",
       "      <td>1</td>\n",
       "      <td>528926</td>\n",
       "      <td>38.0</td>\n",
       "      <td>42.0</td>\n",
       "      <td>12.0</td>\n",
       "      <td>3.0</td>\n",
       "      <td>NaN</td>\n",
       "      <td>3.0</td>\n",
       "      <td>1.0</td>\n",
       "      <td>...</td>\n",
       "      <td>37.0</td>\n",
       "      <td>5.8</td>\n",
       "      <td>NaN</td>\n",
       "      <td>NaN</td>\n",
       "      <td>1</td>\n",
       "      <td>2</td>\n",
       "      <td>3111</td>\n",
       "      <td>0</td>\n",
       "      <td>0</td>\n",
       "      <td>2</td>\n",
       "    </tr>\n",
       "    <tr>\n",
       "      <th>367</th>\n",
       "      <td>2.0</td>\n",
       "      <td>1</td>\n",
       "      <td>530670</td>\n",
       "      <td>37.6</td>\n",
       "      <td>88.0</td>\n",
       "      <td>36.0</td>\n",
       "      <td>3.0</td>\n",
       "      <td>1.0</td>\n",
       "      <td>1.0</td>\n",
       "      <td>1.0</td>\n",
       "      <td>...</td>\n",
       "      <td>44.0</td>\n",
       "      <td>6.0</td>\n",
       "      <td>NaN</td>\n",
       "      <td>NaN</td>\n",
       "      <td>2</td>\n",
       "      <td>1</td>\n",
       "      <td>2112</td>\n",
       "      <td>0</td>\n",
       "      <td>0</td>\n",
       "      <td>2</td>\n",
       "    </tr>\n",
       "  </tbody>\n",
       "</table>\n",
       "<p>368 rows × 28 columns</p>\n",
       "</div>"
      ],
      "text/plain": [
       "     Surgery  Age  Hospital Number  Rectal Temperature  Pulse  \\\n",
       "0        2.0    1           530101                38.5   66.0   \n",
       "1        1.0    1           534817                39.2   88.0   \n",
       "2        2.0    1           530334                38.3   40.0   \n",
       "3        1.0    9          5290409                39.1  164.0   \n",
       "4        2.0    1           530255                37.3  104.0   \n",
       "..       ...  ...              ...                 ...    ...   \n",
       "363      2.0    1           529695                38.6   60.0   \n",
       "364      2.0    1           528452                37.8   42.0   \n",
       "365      1.0    1           534783                38.0   60.0   \n",
       "366      2.0    1           528926                38.0   42.0   \n",
       "367      2.0    1           530670                37.6   88.0   \n",
       "\n",
       "     Respiratory Rate  Temperature Of Extremities  Peripheral Pulse  \\\n",
       "0                28.0                         3.0               3.0   \n",
       "1                20.0                         NaN               NaN   \n",
       "2                24.0                         1.0               1.0   \n",
       "3                84.0                         4.0               1.0   \n",
       "4                35.0                         NaN               NaN   \n",
       "..                ...                         ...               ...   \n",
       "363              30.0                         1.0               1.0   \n",
       "364              40.0                         1.0               1.0   \n",
       "365              12.0                         1.0               1.0   \n",
       "366              12.0                         3.0               NaN   \n",
       "367              36.0                         3.0               1.0   \n",
       "\n",
       "     Mucous Membranes  Capillary Refill Time  ...  Packed Cell Volume  \\\n",
       "0                 NaN                    2.0  ...                45.0   \n",
       "1                 4.0                    1.0  ...                50.0   \n",
       "2                 3.0                    1.0  ...                33.0   \n",
       "3                 6.0                    2.0  ...                48.0   \n",
       "4                 6.0                    2.0  ...                74.0   \n",
       "..                ...                    ...  ...                 ...   \n",
       "363               3.0                    1.0  ...                40.0   \n",
       "364               1.0                    1.0  ...                36.0   \n",
       "365               2.0                    1.0  ...                44.0   \n",
       "366               3.0                    1.0  ...                37.0   \n",
       "367               1.0                    1.0  ...                44.0   \n",
       "\n",
       "     Total Protein  Abdominocentesis Appearance  Abdomcentesis Total Protein  \\\n",
       "0              8.4                          NaN                          NaN   \n",
       "1             85.0                          2.0                          2.0   \n",
       "2              6.7                          NaN                          NaN   \n",
       "3              7.2                          3.0                          5.3   \n",
       "4              7.4                          NaN                          NaN   \n",
       "..             ...                          ...                          ...   \n",
       "363            6.0                          1.0                          NaN   \n",
       "364            6.2                          NaN                          NaN   \n",
       "365           65.0                          3.0                          2.0   \n",
       "366            5.8                          NaN                          NaN   \n",
       "367            6.0                          NaN                          NaN   \n",
       "\n",
       "     Outcome  Surgical Lesion  Lesion 1  Lesion 2  Lesion 3  Pathology Data  \n",
       "0          2                2     11300         0         0               2  \n",
       "1          3                2      2208         0         0               2  \n",
       "2          1                2         0         0         0               1  \n",
       "3          2                1      2208         0         0               1  \n",
       "4          2                2      4300         0         0               2  \n",
       "..       ...              ...       ...       ...       ...             ...  \n",
       "363        1                1      3205         0         0               2  \n",
       "364        1                2      4124         0         0               2  \n",
       "365        3                1      2209         0         0               2  \n",
       "366        1                2      3111         0         0               2  \n",
       "367        2                1      2112         0         0               2  \n",
       "\n",
       "[368 rows x 28 columns]"
      ]
     },
     "metadata": {},
     "output_type": "display_data"
    }
   ],
   "source": [
    "df_data = answer_one_a()\n",
    "\n",
    "display(df_data)\n"
   ]
  },
  {
   "cell_type": "code",
   "execution_count": 103,
   "metadata": {},
   "outputs": [
    {
     "name": "stdout",
     "output_type": "stream",
     "text": [
      "368\n",
      "28\n",
      "['Surgery', 'Age', 'Hospital Number', 'Rectal Temperature', 'Pulse', 'Respiratory Rate', 'Temperature Of Extremities', 'Peripheral Pulse', 'Mucous Membranes', 'Capillary Refill Time', 'Pain Level', 'Peristalsis', 'Abdominal Distension', 'Nasogastric Tube', 'Nasogastric Reflux', 'Nasogastric Reflux PH', 'Rectal Examination', 'Abdomen', 'Packed Cell Volume', 'Total Protein', 'Abdominocentesis Appearance', 'Abdomcentesis Total Protein', 'Outcome', 'Surgical Lesion', 'Lesion 1', 'Lesion 2', 'Lesion 3', 'Pathology Data']\n"
     ]
    }
   ],
   "source": [
    "num_inputs, num_raw_features, raw_feature_names = answer_one_b(df_data)\n",
    "print(num_inputs)\n",
    "print(num_raw_features)\n",
    "print(raw_feature_names)"
   ]
  },
  {
   "cell_type": "code",
   "execution_count": 104,
   "metadata": {},
   "outputs": [],
   "source": [
    "\n",
    "\n",
    "def answer_two_a(input_df, target_column = 'Outcome'):\n",
    "    X = pd.DataFrame(input_df.drop(['Outcome'], axis=1))\n",
    "    y = pd.DataFrame(input_df[target_column])\n",
    "    return X, y\n",
    "\n",
    "def answer_two_b(y):\n",
    "    target_number = y['Outcome'].value_counts(normalize=True)\n",
    "    #1    0.611413\n",
    "    #2    0.247283\n",
    "    #3    0.141304\n",
    "    #Name: Outcome, dtype: float64\n",
    "    # Therefore data is imbalanced\n",
    "    print()\n",
    "    print(type(target_number))\n",
    "    print()\n",
    "    target_ratios = pd.Series(target_number)\n",
    "    return target_ratios\n",
    "\n",
    "def answer_two_c():\n",
    "\n",
    "    is_imbalanced = True\n",
    "\n",
    "    return is_imbalanced\n",
    "\n",
    "def answer_two_d(target_ratios):\n",
    "    target_ratios.plot(kind='pie')\n",
    "    plt.figure()\n",
    "    plt.show()\n",
    "    \n",
    "    return plt.gcf()\n"
   ]
  },
  {
   "cell_type": "code",
   "execution_count": 105,
   "metadata": {},
   "outputs": [
    {
     "name": "stdout",
     "output_type": "stream",
     "text": [
      "\n",
      "<class 'pandas.core.series.Series'>\n",
      "\n"
     ]
    },
    {
     "data": {
      "text/plain": [
       "1    0.611413\n",
       "2    0.247283\n",
       "3    0.141304\n",
       "Name: Outcome, dtype: float64"
      ]
     },
     "metadata": {},
     "output_type": "display_data"
    },
    {
     "name": "stdout",
     "output_type": "stream",
     "text": [
      "Imbalanced\n"
     ]
    },
    {
     "data": {
      "image/png": "[encoded data removed]",
      "text/plain": [
       "<Figure size 432x288 with 1 Axes>"
      ]
     },
     "metadata": {},
     "output_type": "display_data"
    },
    {
     "data": {
      "text/plain": [
       "<Figure size 432x288 with 0 Axes>"
      ]
     },
     "metadata": {},
     "output_type": "display_data"
    },
    {
     "data": {
      "text/plain": [
       "<Figure size 432x288 with 0 Axes>"
      ]
     },
     "execution_count": 105,
     "metadata": {},
     "output_type": "execute_result"
    },
    {
     "data": {
      "text/plain": [
       "<Figure size 432x288 with 0 Axes>"
      ]
     },
     "metadata": {},
     "output_type": "display_data"
    }
   ],
   "source": [
    "X_df, y_df = answer_two_a(df_data)\n",
    "target_ratios = answer_two_b(y_df)\n",
    "display(target_ratios)\n",
    "\n",
    "if answer_two_c():\n",
    "    print('Imbalanced')\n",
    "else:\n",
    "    print('Balanced')\n",
    "\n",
    "answer_two_d(target_ratios)"
   ]
  },
  {
   "cell_type": "code",
   "execution_count": 106,
   "metadata": {},
   "outputs": [
    {
     "name": "stdout",
     "output_type": "stream",
     "text": [
      "<class 'pandas.core.frame.DataFrame'>\n",
      "RangeIndex: 368 entries, 0 to 367\n",
      "Data columns (total 27 columns):\n",
      " #   Column                       Non-Null Count  Dtype  \n",
      "---  ------                       --------------  -----  \n",
      " 0   Surgery                      366 non-null    float64\n",
      " 1   Age                          368 non-null    int64  \n",
      " 2   Hospital Number              368 non-null    int64  \n",
      " 3   Rectal Temperature           299 non-null    float64\n",
      " 4   Pulse                        342 non-null    float64\n",
      " 5   Respiratory Rate             297 non-null    float64\n",
      " 6   Temperature Of Extremities   303 non-null    float64\n",
      " 7   Peripheral Pulse             285 non-null    float64\n",
      " 8   Mucous Membranes             320 non-null    float64\n",
      " 9   Capillary Refill Time        330 non-null    float64\n",
      " 10  Pain Level                   305 non-null    float64\n",
      " 11  Peristalsis                  316 non-null    float64\n",
      " 12  Abdominal Distension         303 non-null    float64\n",
      " 13  Nasogastric Tube             237 non-null    float64\n",
      " 14  Nasogastric Reflux           235 non-null    float64\n",
      " 15  Nasogastric Reflux PH        69 non-null     float64\n",
      " 16  Rectal Examination           240 non-null    float64\n",
      " 17  Abdomen                      225 non-null    float64\n",
      " 18  Packed Cell Volume           331 non-null    float64\n",
      " 19  Total Protein                325 non-null    float64\n",
      " 20  Abdominocentesis Appearance  174 non-null    float64\n",
      " 21  Abdomcentesis Total Protein  133 non-null    float64\n",
      " 22  Surgical Lesion              368 non-null    int64  \n",
      " 23  Lesion 1                     368 non-null    int64  \n",
      " 24  Lesion 2                     368 non-null    int64  \n",
      " 25  Lesion 3                     368 non-null    int64  \n",
      " 26  Pathology Data               368 non-null    int64  \n",
      "dtypes: float64(20), int64(7)\n",
      "memory usage: 77.8 KB\n"
     ]
    }
   ],
   "source": [
    "X_df.info()"
   ]
  },
  {
   "cell_type": "code",
   "execution_count": 107,
   "metadata": {},
   "outputs": [],
   "source": [
    "# YOUR CODE HERE\n",
    "def answer_three_a(df_data):\n",
    "\n",
    "    missing_ratios = df_data.isna().sum()/df_data.shape[0]\n",
    "    missing_ratios = pd.Series(missing_ratios)\n",
    "    \n",
    "   \n",
    "    \n",
    "    return missing_ratios\n",
    "\n",
    "def answer_three_b():\n",
    "    # This function returns a dictionary where the keys are the columns to drop and values are my reason.\n",
    "    \n",
    "    \n",
    "    # I took columns that more than 50 percent\n",
    "    info_dict = {'Nasogastric Reflux PH':'This column has too many missing values',\n",
    "                 'Abdominocentesis Appearance': 'This column has too many missing values',\n",
    "                 'Abdomcentesis Total Protein': 'This column has too many missing values',\n",
    "                'Lesion 1':'It is impossible to analyze.',\n",
    "                 'Lesion 2':'It is impossible to analyze.',\n",
    "                'Lesion 3': 'It is imposible to analyze'}\n",
    "    \n",
    "    return info_dict\n",
    "\n",
    "def answer_three_c():\n",
    "    # This function three lists where the first list has the names of the categorical columns, \n",
    "    # second list contains the names of the numerical columns and\n",
    "    # the third list containes the names of the other columns\n",
    "    \n",
    "    categorical_list = [\"Peristalsis\", \"Pain Level\",\"Nasogastric Tube\",\"Abdomen\",\"Rectal Examination\",\n",
    "                       \"Capillary Refill Time\",\"Mucous Membranes\",\"Temperature Of Extremities\",\n",
    "                       \"Nasogastric Reflux\",\"Nasogastric Tube\",\"Abdominal Distension\"]\n",
    "    numerical_list = [\"Age\",\"Pulse\",\"Total Protein\",\"Rectal Temperature\",\"Packed Cell Volume\",\"Respiratory Rate\"]\n",
    "    other_list = [\"Surgery\",\"Surgical Lesion\"]\n",
    "    \n",
    "    return categorical_list, numerical_list, other_list\n",
    "\n",
    "def answer_three_d(X, y, random_state = 522): \n",
    "\n",
    "    \n",
    "    X_train, X_test, y_train, y_test = train_test_split(X, y, test_size=0.2,\n",
    "    random_state=random_state,stratify = y)\n",
    "\n",
    "    \n",
    "    \n",
    "    return X_train, X_test, y_train, y_test"
   ]
  },
  {
   "cell_type": "code",
   "execution_count": 108,
   "metadata": {},
   "outputs": [
    {
     "data": {
      "text/plain": [
       "Surgery                        0.005435\n",
       "Age                            0.000000\n",
       "Hospital Number                0.000000\n",
       "Rectal Temperature             0.187500\n",
       "Pulse                          0.070652\n",
       "Respiratory Rate               0.192935\n",
       "Temperature Of Extremities     0.176630\n",
       "Peripheral Pulse               0.225543\n",
       "Mucous Membranes               0.130435\n",
       "Capillary Refill Time          0.103261\n",
       "Pain Level                     0.171196\n",
       "Peristalsis                    0.141304\n",
       "Abdominal Distension           0.176630\n",
       "Nasogastric Tube               0.355978\n",
       "Nasogastric Reflux             0.361413\n",
       "Nasogastric Reflux PH          0.812500\n",
       "Rectal Examination             0.347826\n",
       "Abdomen                        0.388587\n",
       "Packed Cell Volume             0.100543\n",
       "Total Protein                  0.116848\n",
       "Abdominocentesis Appearance    0.527174\n",
       "Abdomcentesis Total Protein    0.638587\n",
       "Surgical Lesion                0.000000\n",
       "Lesion 1                       0.000000\n",
       "Lesion 2                       0.000000\n",
       "Lesion 3                       0.000000\n",
       "Pathology Data                 0.000000\n",
       "dtype: float64"
      ]
     },
     "metadata": {},
     "output_type": "display_data"
    }
   ],
   "source": [
    "missing_ratios = answer_three_a(X_df)\n",
    "\n",
    "display(missing_ratios)"
   ]
  },
  {
   "cell_type": "code",
   "execution_count": 109,
   "metadata": {},
   "outputs": [
    {
     "name": "stdout",
     "output_type": "stream",
     "text": [
      "Nasogastric Reflux PH: This column has too many missing values\n",
      "Abdominocentesis Appearance: This column has too many missing values\n",
      "Abdomcentesis Total Protein: This column has too many missing values\n",
      "Lesion 1: It is impossible to analyze.\n",
      "Lesion 2: It is impossible to analyze.\n",
      "Lesion 3: It is imposible to analyze\n"
     ]
    }
   ],
   "source": [
    "info_dict = answer_three_b()\n",
    "for key, value in info_dict.items():\n",
    "    print(f'{key}: {value}')"
   ]
  },
  {
   "cell_type": "code",
   "execution_count": 110,
   "metadata": {},
   "outputs": [
    {
     "name": "stdout",
     "output_type": "stream",
     "text": [
      "['Peristalsis', 'Pain Level', 'Nasogastric Tube', 'Abdomen', 'Rectal Examination', 'Capillary Refill Time', 'Mucous Membranes', 'Temperature Of Extremities', 'Nasogastric Reflux', 'Nasogastric Tube', 'Abdominal Distension']\n",
      "['Age', 'Pulse', 'Total Protein', 'Rectal Temperature', 'Packed Cell Volume', 'Respiratory Rate']\n",
      "['Surgery', 'Surgical Lesion']\n"
     ]
    }
   ],
   "source": [
    "categorical_list, numerical_list, other_list = answer_three_c()\n",
    "\n",
    "print(categorical_list)\n",
    "print(numerical_list)\n",
    "print(other_list)"
   ]
  },
  {
   "cell_type": "code",
   "execution_count": 111,
   "metadata": {},
   "outputs": [],
   "source": [
    "X_train, X_test, y_train, y_test = answer_three_d(X_df, y_df)"
   ]
  },
  {
   "cell_type": "code",
   "execution_count": 112,
   "metadata": {},
   "outputs": [],
   "source": [
    "X_train_dropped = X_train.drop(info_dict.keys(),axis=1)\n",
    "X_test_dropped  = X_test.drop(info_dict.keys(),axis=1)"
   ]
  },
  {
   "cell_type": "code",
   "execution_count": 113,
   "metadata": {},
   "outputs": [],
   "source": [
    "def answer_four_a(df, categorical_list):\n",
    "\n",
    "    plt.figure(figsize=(12,12))\n",
    "    for i in range(len(categorical_list)):\n",
    "        plt.subplot(4,3,i+1)\n",
    "        df[categorical_list[i]].value_counts().plot.bar()\n",
    "        plt.xlabel(categorical_list[i])\n",
    "\n",
    "    plt.tight_layout()\n",
    "\n",
    "    return plt.gcf()"
   ]
  },
  {
   "cell_type": "code",
   "execution_count": 114,
   "metadata": {},
   "outputs": [
    {
     "data": {
      "image/png": "[encoded data removed]",
      "text/plain": [
       "<Figure size 864x864 with 11 Axes>"
      ]
     },
     "metadata": {
      "needs_background": "light"
     },
     "output_type": "display_data"
    }
   ],
   "source": [
    "cat_fig = answer_four_a(X_train, categorical_list)"
   ]
  },
  {
   "cell_type": "code",
   "execution_count": 115,
   "metadata": {},
   "outputs": [],
   "source": [
    "def answer_four_b(df, numerical_list):\n",
    "\n",
    "    plt.figure(figsize=(12,12))\n",
    "    df = df[numerical_list]\n",
    "    for i in range(len(numerical_list)):\n",
    "\n",
    "        plt.subplot(2,3,i+1)\n",
    "        df[numerical_list[i]].plot.box()\n",
    "        plt.xlabel(numerical_list[i])\n",
    "\n",
    "    plt.tight_layout()\n",
    "\n",
    "    return plt.gcf()"
   ]
  },
  {
   "cell_type": "code",
   "execution_count": 116,
   "metadata": {},
   "outputs": [
    {
     "data": {
      "image/png": "[encoded data removed]",
      "text/plain": [
       "<Figure size 864x864 with 6 Axes>"
      ]
     },
     "metadata": {
      "needs_background": "light"
     },
     "output_type": "display_data"
    }
   ],
   "source": [
    "nume_fig = answer_four_b(X_train, numerical_list)"
   ]
  },
  {
   "cell_type": "code",
   "execution_count": 122,
   "metadata": {},
   "outputs": [],
   "source": [
    "custom_step = False\n",
    "def answer_five_custom():\n",
    "    pass\n",
    "\n",
    "if custom_step:\n",
    "    X_train = answer_five_custom(X_train)\n",
    "    X_test = answer_five_custom(X_test)"
   ]
  },
  {
   "cell_type": "code",
   "execution_count": 127,
   "metadata": {},
   "outputs": [],
   "source": [
    "from sklearn.pipeline import Pipeline\n",
    "from sklearn.compose import ColumnTransformer\n",
    "\n",
    "def answer_five(numerical_list, categorical_list):\n",
    "\n",
    "    numerical = ('numeric_transformer', \n",
    "            Pipeline([('NumScale', preprocessing.StandardScaler())]), numerical_list)\n",
    "    categorical = ('categorical_transformer', \n",
    "                Pipeline([('SimpleImputer', SimpleImputer(strategy='most_frequent')),\n",
    "                          ('OneHotEncoder',OneHotEncoder(handle_unknown='ignore'))]),  categorical_list)\n",
    "\n",
    "    \n",
    "                     \n",
    "    co_transformer = ColumnTransformer([categorical, numerical]) \n",
    "            \n",
    "    preprocessing_pipeline = Pipeline([('co_transformer', co_transformer),\n",
    "                                       ('IterativeImputer', IterativeImputer(estimator=LinearRegression(),max_iter=10, tol=0.01))])\n",
    "    return preprocessing_pipeline"
   ]
  },
  {
   "cell_type": "code",
   "execution_count": 128,
   "metadata": {},
   "outputs": [],
   "source": [
    "pipe = answer_five(numerical_list,categorical_list)\n",
    "\n",
    "X_train_p = pipe.fit_transform(X_train)\n",
    "X_test_p = pipe.transform(X_test)"
   ]
  },
  {
   "cell_type": "code",
   "execution_count": 129,
   "metadata": {},
   "outputs": [],
   "source": [
    "from sklearn.metrics import accuracy_score, classification_report, plot_confusion_matrix\n",
    "\n",
    "def evaluate(classifier, X_train, X_test, y_train, y_test, name = None):\n",
    "    if name:\n",
    "        print(name)\n",
    "    print('Training Performance', classifier.score(X_train, y_train))\n",
    "    print('Testing Performance', classifier.score(X_test, y_test))\n",
    "    y_pred = classifier.predict(X_test)\n",
    "    print(classification_report(y_test,y_pred))\n",
    "    plot_confusion_matrix(classifier,X_test,y_test)\n",
    "    plt.show()"
   ]
  },
  {
   "cell_type": "code",
   "execution_count": 131,
   "metadata": {},
   "outputs": [
    {
     "name": "stdout",
     "output_type": "stream",
     "text": [
      "baseline logistic regression\n",
      "Training Performance 0.7517006802721088\n",
      "Testing Performance 0.6756756756756757\n",
      "              precision    recall  f1-score   support\n",
      "\n",
      "           1       0.72      0.80      0.76        45\n",
      "           2       0.59      0.56      0.57        18\n",
      "           3       0.57      0.36      0.44        11\n",
      "\n",
      "    accuracy                           0.68        74\n",
      "   macro avg       0.63      0.57      0.59        74\n",
      "weighted avg       0.67      0.68      0.67        74\n",
      "\n"
     ]
    },
    {
     "name": "stderr",
     "output_type": "stream",
     "text": [
      "C:\\ProgramData\\Anaconda3\\lib\\site-packages\\sklearn\\utils\\validation.py:760: DataConversionWarning: A column-vector y was passed when a 1d array was expected. Please change the shape of y to (n_samples, ), for example using ravel().\n",
      "  y = column_or_1d(y, warn=True)\n"
     ]
    },
    {
     "data": {
      "image/png": "[encoded data removed]",
      "text/plain": [
       "<Figure size 432x288 with 2 Axes>"
      ]
     },
     "metadata": {
      "needs_background": "light"
     },
     "output_type": "display_data"
    },
    {
     "name": "stdout",
     "output_type": "stream",
     "text": [
      "\n",
      "baseline random forest\n",
      "Training Performance 0.9965986394557823\n",
      "Testing Performance 0.7837837837837838\n",
      "              precision    recall  f1-score   support\n",
      "\n",
      "           1       0.79      0.98      0.87        45\n",
      "           2       0.75      0.67      0.71        18\n",
      "           3       1.00      0.18      0.31        11\n",
      "\n",
      "    accuracy                           0.78        74\n",
      "   macro avg       0.85      0.61      0.63        74\n",
      "weighted avg       0.81      0.78      0.75        74\n",
      "\n"
     ]
    },
    {
     "name": "stderr",
     "output_type": "stream",
     "text": [
      "C:\\ProgramData\\Anaconda3\\lib\\site-packages\\ipykernel_launcher.py:11: DataConversionWarning: A column-vector y was passed when a 1d array was expected. Please change the shape of y to (n_samples,), for example using ravel().\n",
      "  # This is added back by InteractiveShellApp.init_path()\n"
     ]
    },
    {
     "data": {
      "image/png": "[encoded data removed]",
      "text/plain": [
       "<Figure size 432x288 with 2 Axes>"
      ]
     },
     "metadata": {
      "needs_background": "light"
     },
     "output_type": "display_data"
    }
   ],
   "source": [
    "# Baseline models\n",
    "from sklearn.linear_model import LogisticRegression\n",
    "from sklearn.ensemble import RandomForestClassifier\n",
    "\n",
    "lr = LogisticRegression()\n",
    "rf = RandomForestClassifier()\n",
    "\n",
    "lr.fit(X_train_p,y_train)\n",
    "evaluate(lr, X_train_p, X_test_p, y_train, y_test, 'baseline logistic regression')\n",
    "print()\n",
    "rf.fit(X_train_p,y_train)\n",
    "evaluate(rf, X_train_p, X_test_p, y_train, y_test, 'baseline random forest')"
   ]
  },
  {
   "cell_type": "code",
   "execution_count": 132,
   "metadata": {},
   "outputs": [],
   "source": [
    "pipeline_prefix = '' \n",
    "classifier_param_list = [('logistic regression', \n",
    "                           LogisticRegression(max_iter=10000),\n",
    "                          {pipeline_prefix+'C':np.logspace(-2,1.3,100)}),\n",
    "                         ('random forest',\n",
    "                           RandomForestClassifier(),\n",
    "                          {pipeline_prefix+'n_estimators':[10,25,50,100],\n",
    "                           pipeline_prefix+'max_depth':[3,5,8,10,None],\n",
    "                           pipeline_prefix+'min_samples_split':np.arange(2,11),\n",
    "                           pipeline_prefix+'min_samples_leaf':np.arange(1,5)}),\n",
    "                        ]"
   ]
  },
  {
   "cell_type": "code",
   "execution_count": 133,
   "metadata": {},
   "outputs": [],
   "source": [
    "from sklearn.model_selection import RandomizedSearchCV\n",
    "\n",
    "# YOUR CODE HERE\n",
    "def answer_six_main(classifier, params, X_train, y_train, n_iters_randomized_cv = 100):\n",
    "    # Hint: Pass a smaller n_iters_randomized_cv parameter for debugging\n",
    "\n",
    "    # Fill this function\n",
    "\n",
    "    rscv = RandomizedSearchCV(estimator=classifier, param_distributions = params,\n",
    "                               cv = 5, n_iter = n_iters_randomized_cv,n_jobs=-1, random_state=1)\n",
    "    rscv.fit(X_train, y_train.values.ravel())\n",
    "    \n",
    "    return rscv"
   ]
  },
  {
   "cell_type": "code",
   "execution_count": 134,
   "metadata": {},
   "outputs": [
    {
     "name": "stdout",
     "output_type": "stream",
     "text": [
      "Training logistic regression\n",
      "Training random forest\n"
     ]
    }
   ],
   "source": [
    "classifiers = {}\n",
    "for item in classifier_param_list:\n",
    "    print('Training', item[0])\n",
    "    classifiers[item[0]] = answer_six_main(item[1],item[2], X_train_p, y_train)"
   ]
  },
  {
   "cell_type": "code",
   "execution_count": 135,
   "metadata": {},
   "outputs": [
    {
     "name": "stdout",
     "output_type": "stream",
     "text": [
      "LogisticRegression(C=0.054116952654646375, class_weight=None, dual=False,\n",
      "                   fit_intercept=True, intercept_scaling=1, l1_ratio=None,\n",
      "                   max_iter=10000, multi_class='auto', n_jobs=None,\n",
      "                   penalty='l2', random_state=None, solver='lbfgs', tol=0.0001,\n",
      "                   verbose=0, warm_start=False)\n",
      "RandomForestClassifier(bootstrap=True, ccp_alpha=0.0, class_weight=None,\n",
      "                       criterion='gini', max_depth=8, max_features='auto',\n",
      "                       max_leaf_nodes=None, max_samples=None,\n",
      "                       min_impurity_decrease=0.0, min_impurity_split=None,\n",
      "                       min_samples_leaf=2, min_samples_split=7,\n",
      "                       min_weight_fraction_leaf=0.0, n_estimators=100,\n",
      "                       n_jobs=None, oob_score=False, random_state=None,\n",
      "                       verbose=0, warm_start=False)\n"
     ]
    }
   ],
   "source": [
    "print(classifiers['logistic regression'].best_estimator_)\n",
    "print(classifiers['random forest'].best_estimator_)"
   ]
  },
  {
   "cell_type": "code",
   "execution_count": 136,
   "metadata": {},
   "outputs": [
    {
     "name": "stdout",
     "output_type": "stream",
     "text": [
      "logistic regression\n",
      "Training Performance 0.7380952380952381\n",
      "Testing Performance 0.7297297297297297\n",
      "              precision    recall  f1-score   support\n",
      "\n",
      "           1       0.73      0.96      0.83        45\n",
      "           2       0.67      0.44      0.53        18\n",
      "           3       1.00      0.27      0.43        11\n",
      "\n",
      "    accuracy                           0.73        74\n",
      "   macro avg       0.80      0.56      0.60        74\n",
      "weighted avg       0.75      0.73      0.70        74\n",
      "\n"
     ]
    },
    {
     "data": {
      "image/png": "[encoded data removed]",
      "text/plain": [
       "<Figure size 432x288 with 2 Axes>"
      ]
     },
     "metadata": {
      "needs_background": "light"
     },
     "output_type": "display_data"
    },
    {
     "name": "stdout",
     "output_type": "stream",
     "text": [
      "random forest\n",
      "Training Performance 0.8809523809523809\n",
      "Testing Performance 0.7162162162162162\n",
      "              precision    recall  f1-score   support\n",
      "\n",
      "           1       0.74      0.96      0.83        45\n",
      "           2       0.60      0.50      0.55        18\n",
      "           3       1.00      0.09      0.17        11\n",
      "\n",
      "    accuracy                           0.72        74\n",
      "   macro avg       0.78      0.52      0.52        74\n",
      "weighted avg       0.75      0.72      0.67        74\n",
      "\n"
     ]
    },
    {
     "data": {
      "image/png": "[encoded data removed]",
      "text/plain": [
       "<Figure size 432x288 with 2 Axes>"
      ]
     },
     "metadata": {
      "needs_background": "light"
     },
     "output_type": "display_data"
    }
   ],
   "source": [
    "for item in classifier_param_list:\n",
    "    evaluate(classifiers[item[0]], X_train_p, X_test_p, y_train, y_test, item[0])"
   ]
  }
 ],
 "metadata": {
  "kernelspec": {
   "display_name": "Python 3",
   "language": "python",
   "name": "python3"
  },
  "language_info": {
   "codemirror_mode": {
    "name": "ipython",
    "version": 3
   },
   "file_extension": ".py",
   "mimetype": "text/x-python",
   "name": "python",
   "nbconvert_exporter": "python",
   "pygments_lexer": "ipython3",
   "version": "3.7.6"
  }
 },
 "nbformat": 4,
 "nbformat_minor": 4
}
